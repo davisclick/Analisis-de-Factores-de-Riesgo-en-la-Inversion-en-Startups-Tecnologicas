{
 "cells": [
  {
   "cell_type": "code",
   "execution_count": 8,
   "id": "4a94596e-6d98-4b04-b11e-1ddf9ea3cd62",
   "metadata": {},
   "outputs": [],
   "source": [
    "import pandas as pd"
   ]
  },
  {
   "cell_type": "code",
   "execution_count": 9,
   "id": "af266b39-edf4-492d-acee-890c0cc09160",
   "metadata": {},
   "outputs": [],
   "source": [
    "# Leer el archivo con separador ;\n",
    "df = pd.read_csv(\"datasets/categorias_startups.csv\", sep=\",\")"
   ]
  },
  {
   "cell_type": "code",
   "execution_count": 10,
   "id": "64f114b7-3e9b-4ced-813e-0de0ad40b6d9",
   "metadata": {},
   "outputs": [
    {
     "data": {
      "text/html": [
       "<div>\n",
       "<style scoped>\n",
       "    .dataframe tbody tr th:only-of-type {\n",
       "        vertical-align: middle;\n",
       "    }\n",
       "\n",
       "    .dataframe tbody tr th {\n",
       "        vertical-align: top;\n",
       "    }\n",
       "\n",
       "    .dataframe thead th {\n",
       "        text-align: right;\n",
       "    }\n",
       "</style>\n",
       "<table border=\"1\" class=\"dataframe\">\n",
       "  <thead>\n",
       "    <tr style=\"text-align: right;\">\n",
       "      <th></th>\n",
       "      <th>company_name</th>\n",
       "      <th>categories</th>\n",
       "    </tr>\n",
       "  </thead>\n",
       "  <tbody>\n",
       "    <tr>\n",
       "      <th>0</th>\n",
       "      <td>QFEX</td>\n",
       "      <td>Financial Services, Lending and Investments</td>\n",
       "    </tr>\n",
       "    <tr>\n",
       "      <th>1</th>\n",
       "      <td>Eytrix</td>\n",
       "      <td>Artificial Intelligence (AI), Data and Analyti...</td>\n",
       "    </tr>\n",
       "    <tr>\n",
       "      <th>2</th>\n",
       "      <td>Minerva Intelligence</td>\n",
       "      <td>Financial Services</td>\n",
       "    </tr>\n",
       "    <tr>\n",
       "      <th>3</th>\n",
       "      <td>Terracotta AI</td>\n",
       "      <td>Artificial Intelligence (AI), Hardware, Inform...</td>\n",
       "    </tr>\n",
       "    <tr>\n",
       "      <th>4</th>\n",
       "      <td>TripleZip</td>\n",
       "      <td>Artificial Intelligence (AI), Data and Analyti...</td>\n",
       "    </tr>\n",
       "  </tbody>\n",
       "</table>\n",
       "</div>"
      ],
      "text/plain": [
       "           company_name                                         categories\n",
       "0                  QFEX        Financial Services, Lending and Investments\n",
       "1                Eytrix  Artificial Intelligence (AI), Data and Analyti...\n",
       "2  Minerva Intelligence                                 Financial Services\n",
       "3         Terracotta AI  Artificial Intelligence (AI), Hardware, Inform...\n",
       "4             TripleZip  Artificial Intelligence (AI), Data and Analyti..."
      ]
     },
     "execution_count": 10,
     "metadata": {},
     "output_type": "execute_result"
    }
   ],
   "source": [
    "df.head()"
   ]
  },
  {
   "cell_type": "code",
   "execution_count": 11,
   "id": "33924409-707a-49fc-9b3f-0b066c1c19cc",
   "metadata": {},
   "outputs": [],
   "source": [
    "# Función que asigna la primera categoría principal reconocida\n",
    "def asignar_categoria_prioritaria(categorias_str):\n",
    "    if pd.isna(categorias_str):\n",
    "        return \"Unspecified\"\n",
    "    categorias = [c.strip() for c in categorias_str.split(\",\")]\n",
    "    categorias_mapeadas = [mapeo_categorias.get(c, \"Unspecified\") for c in categorias]\n",
    "    for categoria in prioridad:\n",
    "        if categoria in categorias_mapeadas:\n",
    "            return categoria\n",
    "    return \"Unspecified\""
   ]
  },
  {
   "cell_type": "code",
   "execution_count": 12,
   "id": "30c74234-1693-4057-a0a5-2d89a7fe8f0f",
   "metadata": {},
   "outputs": [],
   "source": [
    "# Supongamos que la columna se llama 'categories' y tiene valores separados por coma\n",
    "df[\"categories\"] = df[\"categories\"].fillna(\"Unspecified\")\n",
    "\n",
    "# Separar por coma y hacer una fila por cada categoría\n",
    "df_exploded = df.assign(category_split=df[\"categories\"].str.split(\",\")).explode(\"category_split\")\n",
    "\n",
    "# Quitar espacios\n",
    "df_exploded[\"category_split\"] = df_exploded[\"category_split\"].str.strip()\n",
    "\n",
    "# Diccionario de mapeo a las 9 categorías principales\n",
    "# 2. Mapeo de subcategorías a categorías principales\n",
    "mapeo_categorias = {\n",
    "    \"Real Estate\": \"Real Estate and Construction\",\n",
    "    \"Construction\": \"Real Estate and Construction\",\n",
    "    \"Education\": \"Education\",\n",
    "    \"Financial Services\": \"Financial\",\n",
    "    \"Lending and Investments\": \"Financial\",\n",
    "    \"FinTech\": \"Financial\",\n",
    "    \"Health Care\": \"Health Care\",\n",
    "    \"Biotech\": \"Health Care\",\n",
    "    \"Industrial\": \"Industrials\",\n",
    "    \"Manufacturing\": \"Industrials\",\n",
    "    \"B2B\": \"B2B Software and Services\",\n",
    "    \"SaaS\": \"B2B Software and Services\",\n",
    "    \"Artificial Intelligence (AI)\": \"B2B Software and Services\",\n",
    "    \"Data and Analytics\": \"B2B Software and Services\",\n",
    "    \"Hardware\": \"B2B Software and Services\",\n",
    "    \"Information Technology\": \"B2B Software and Services\",\n",
    "    \"Consumer Goods\": \"Consumer\",\n",
    "    \"Retail\": \"Consumer\",\n",
    "    \"Government\": \"Government\",\n",
    "}\n",
    "\n",
    "prioridad = [\n",
    "    \"Real Estate and Construction\",\n",
    "    \"Industrials\",\n",
    "    \"Education\",\n",
    "    \"Financial\",\n",
    "    \"B2B Software and Services\",\n",
    "    \"Government\",\n",
    "    \"Health Care\",\n",
    "    \"Consumer\",\n",
    "    \"Unspecified\"\n",
    "]\n",
    "\n",
    "# Aplicar función a cada fila\n",
    "df[\"main_category\"] = df[\"categories\"].apply(asignar_categoria_prioritaria)\n",
    "\n",
    "# Guardar resultado\n",
    "df.to_csv(\"datasets/categorias_startups_transformadas.csv\", index=False)"
   ]
  },
  {
   "cell_type": "code",
   "execution_count": null,
   "id": "c389eb9e-3545-47af-ac4c-f67a84c46d91",
   "metadata": {},
   "outputs": [],
   "source": []
  }
 ],
 "metadata": {
  "kernelspec": {
   "display_name": "Python 3 (ipykernel)",
   "language": "python",
   "name": "python3"
  },
  "language_info": {
   "codemirror_mode": {
    "name": "ipython",
    "version": 3
   },
   "file_extension": ".py",
   "mimetype": "text/x-python",
   "name": "python",
   "nbconvert_exporter": "python",
   "pygments_lexer": "ipython3",
   "version": "3.9.18"
  }
 },
 "nbformat": 4,
 "nbformat_minor": 5
}
