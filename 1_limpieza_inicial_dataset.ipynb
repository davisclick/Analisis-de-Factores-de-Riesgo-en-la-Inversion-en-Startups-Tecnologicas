{
 "cells": [
  {
   "cell_type": "code",
   "execution_count": 61,
   "id": "74be488e-6491-481b-b0e0-a72c8ba454cd",
   "metadata": {},
   "outputs": [],
   "source": [
    "import json\n",
    "import pandas as pd\n",
    "from collections import defaultdict"
   ]
  },
  {
   "cell_type": "code",
   "execution_count": 62,
   "id": "8a01bc2b-9e0a-4b09-b939-bacef38c56d2",
   "metadata": {},
   "outputs": [],
   "source": [
    "# Cargar el archivo JSON\n",
    "with open('datasets/dataset_crunchbase_ycombinator_all.json', 'r', encoding='utf-8') as f:\n",
    "    data = json.load(f)"
   ]
  },
  {
   "cell_type": "code",
   "execution_count": 63,
   "id": "e683c0a8-0ea6-4b54-a166-1966a8f76f12",
   "metadata": {},
   "outputs": [],
   "source": [
    "# Lista de tipos de financiamiento permitidos\n",
    "tipos_permitidos = ['seed', 'pre_seed', 'angel', 'series_a', 'series_b']\n",
    "\n",
    "# Procesar los campos deseados\n",
    "resultado = []\n",
    "for item in data:\n",
    "    # Filtrar por tipo de financiamiento\n",
    "    if item.get(\"last_funding_type\") not in tipos_permitidos:\n",
    "        continue\n",
    "\n",
    "    # Extraer nombres de fundadores\n",
    "    founder_names = \", \".join([f.get(\"value\", \"\") for f in item.get(\"founder_identifiers\", [])])\n",
    "    \n",
    "    # Extraer categorías\n",
    "    category_names = \", \".join([c.get(\"value\", \"\") for c in item.get(\"category_groups\", [])])\n",
    "\n",
    "    resultado.append({\n",
    "        \"company_name\": item.get(\"name\"),\n",
    "        \"equity_funding_total\": item.get(\"equity_funding_total\", {}).get(\"value\"),\n",
    "        \"num_articles\": item.get(\"num_articles\"),\n",
    "        \"last_equity_funding_total\": item.get(\"last_equity_funding_total\", {}).get(\"value\"),\n",
    "        \"num_investments_funding_rounds\": item.get(\"num_investments_funding_rounds\"),\n",
    "        \"founded_on\": item.get(\"founded_on\", {}).get(\"value\"),\n",
    "        \"ipqwery_num_trademark_registered\": item.get(\"ipqwery_num_trademark_registered\"),\n",
    "        \"ipqwery_num_patent_granted\": item.get(\"ipqwery_num_patent_granted\"),\n",
    "        \"num_investors\": item.get(\"num_investors\"),\n",
    "        \"operating_status\": item.get(\"operating_status\"),\n",
    "        \"num_lead_investors\": item.get(\"num_lead_investors\"),\n",
    "        \"num_employees_enum\": item.get(\"num_employees_enum\"),\n",
    "        \"funding_total\": item.get(\"funding_total\", {}).get(\"value\"),\n",
    "        \"num_funding_rounds\": item.get(\"num_funding_rounds\"),\n",
    "        \"last_funding_type\": item.get(\"last_funding_type\"),\n",
    "        \"last_funding_at\": item.get(\"last_funding_at\"),\n",
    "        \"last_funding_total\": item.get(\"last_funding_total\", {}).get(\"value\"),\n",
    "        \"num_founders\": item.get(\"num_founders\"),\n",
    "        \"linkedin\": item.get(\"linkedin\", {}).get(\"value\"),\n",
    "        \"facebook\": item.get(\"facebook\", {}).get(\"value\"),\n",
    "        \"twitter\": item.get(\"twitter\", {}).get(\"value\"),\n",
    "        \"founders\": founder_names,\n",
    "        \"categories\": category_names\n",
    "    })\n"
   ]
  },
  {
   "cell_type": "code",
   "execution_count": 64,
   "id": "caa69a36-6fd7-4085-9179-0ffc4ad5599f",
   "metadata": {},
   "outputs": [],
   "source": [
    "df = pd.DataFrame(resultado)"
   ]
  },
  {
   "cell_type": "code",
   "execution_count": 65,
   "id": "a9cb47c7-69ad-40ff-88d8-d39b15cad18e",
   "metadata": {},
   "outputs": [],
   "source": [
    "# Se eliminan los valores nulos de\n",
    "df[[\"founders\",\"last_equity_funding_total\", \"num_lead_investors\", \"categories\", \"num_employees_enum\"]] = df[[\n",
    "    \"founders\",\"last_equity_funding_total\", \"num_lead_investors\", \"categories\", \"num_employees_enum\"\n",
    "]].replace(\"\", pd.NA)"
   ]
  },
  {
   "cell_type": "code",
   "execution_count": 66,
   "id": "5ccbf3a2-bca4-4685-8a62-3dca10778113",
   "metadata": {},
   "outputs": [],
   "source": [
    "#Filtrar eliminando filas con valores faltantes en las columnas \n",
    "df = df.dropna(subset=[\"founders\",\"last_equity_funding_total\", \"num_lead_investors\", \"categories\", \"num_employees_enum\"])"
   ]
  },
  {
   "cell_type": "code",
   "execution_count": 67,
   "id": "6c097b4f-8cdf-4e91-ba9b-75f5c1dfa5e8",
   "metadata": {},
   "outputs": [],
   "source": [
    "# Crear una copia opcional del nombre original si deseas conservarlo\n",
    "# df[\"original_company_name\"] = df[\"company_name\"]\n",
    "\n",
    "# Paso 1: Identificar valores duplicados\n",
    "duplicados_mask = df[\"company_name\"].duplicated(keep=False)\n",
    "\n",
    "# Paso 2: Crear un contador para los duplicados\n",
    "contador = defaultdict(int)\n",
    "\n",
    "# Paso 3: Nueva columna con nombres renombrados\n",
    "nombres_actualizados = []\n",
    "\n",
    "for i, name in enumerate(df[\"company_name\"]):\n",
    "    if duplicados_mask.iloc[i]:\n",
    "        contador[name] += 1\n",
    "        nombres_actualizados.append(f\"{name}_{contador[name]}\")\n",
    "    else:\n",
    "        nombres_actualizados.append(name)\n",
    "\n",
    "# Paso 4: Asignar la nueva columna\n",
    "df[\"company_name\"] = nombres_actualizados"
   ]
  },
  {
   "cell_type": "code",
   "execution_count": 68,
   "id": "3be0df5b-ab55-4491-82f9-851f13bd53cf",
   "metadata": {},
   "outputs": [
    {
     "name": "stdout",
     "output_type": "stream",
     "text": [
      "Series([], Name: company_name, dtype: object)\n"
     ]
    }
   ],
   "source": [
    "duplicados = df[df[\"company_name\"].duplicated()]\n",
    "print(duplicados[\"company_name\"])"
   ]
  },
  {
   "cell_type": "code",
   "execution_count": 69,
   "id": "92ebdd20-fbca-46a1-8b29-38c1d4789c44",
   "metadata": {},
   "outputs": [],
   "source": [
    "df.to_csv(\"datasets/startups_etapa_temprana.csv\", index=False)"
   ]
  },
  {
   "cell_type": "code",
   "execution_count": 70,
   "id": "5a392118-e760-4ee4-8e54-52b858db82fd",
   "metadata": {},
   "outputs": [],
   "source": [
    "categorias = df[[\"company_name\",\"categories\"]]"
   ]
  },
  {
   "cell_type": "code",
   "execution_count": 71,
   "id": "1ff657e6-f642-4676-98ef-46718403f421",
   "metadata": {},
   "outputs": [],
   "source": [
    "categorias.to_csv(\"datasets/categorias_startups.csv\", index=False)"
   ]
  },
  {
   "cell_type": "code",
   "execution_count": 11,
   "id": "4ac3c5ec-84b5-4270-9bf3-f8f6a432819f",
   "metadata": {},
   "outputs": [],
   "source": [
    "# Tipos de financiamiento aceptados\n",
    "tipos_permitidos = {\n",
    "    \"pre_seed\", \"seed\", \"series_a\", \"series_b\"\n",
    "}\n",
    "\n",
    "# Cargar archivo JSON\n",
    "with open('dataset_crunchbase_ycombinator_all.json', 'r', encoding='utf-8') as f:\n",
    "    data = json.load(f)\n",
    "\n",
    "# Extraer fundadores de empresas filtradas\n",
    "founders_data = []\n",
    "for item in data:\n",
    "    funding_type = item.get(\"last_funding_type\")\n",
    "    if funding_type in tipos_permitidos:\n",
    "        company_name = item.get(\"name\")\n",
    "        for founder in item.get(\"founder_identifiers\", []):\n",
    "            founder_name = founder.get(\"value\")\n",
    "            if founder_name:\n",
    "                founders_data.append({\n",
    "                    \"founder_name\": founder_name,\n",
    "                    \"company_name\": company_name,\n",
    "                    \"last_funding_type\": funding_type\n",
    "                })\n",
    "\n",
    "# Crear DataFrame\n",
    "df = pd.DataFrame(founders_data)\n",
    "df.to_csv(\"fundadores_filtrados_etapa_temprana.csv\", index=False)\n"
   ]
  },
  {
   "cell_type": "code",
   "execution_count": null,
   "id": "fe41f302-c401-402b-920b-73876f5005a6",
   "metadata": {},
   "outputs": [],
   "source": []
  }
 ],
 "metadata": {
  "kernelspec": {
   "display_name": "Python 3 (ipykernel)",
   "language": "python",
   "name": "python3"
  },
  "language_info": {
   "codemirror_mode": {
    "name": "ipython",
    "version": 3
   },
   "file_extension": ".py",
   "mimetype": "text/x-python",
   "name": "python",
   "nbconvert_exporter": "python",
   "pygments_lexer": "ipython3",
   "version": "3.9.18"
  }
 },
 "nbformat": 4,
 "nbformat_minor": 5
}
