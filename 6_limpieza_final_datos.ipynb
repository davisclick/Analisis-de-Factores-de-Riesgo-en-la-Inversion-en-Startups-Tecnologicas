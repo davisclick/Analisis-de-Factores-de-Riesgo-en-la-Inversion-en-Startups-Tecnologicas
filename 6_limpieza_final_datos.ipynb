{
 "cells": [
  {
   "cell_type": "code",
   "execution_count": 434,
   "id": "d723b192-7741-4b17-8b5f-6fb52b7f3b09",
   "metadata": {},
   "outputs": [],
   "source": [
    "import json\n",
    "import pandas as pd\n",
    "from datetime import datetime\n",
    "from datetime import timedelta"
   ]
  },
  {
   "cell_type": "code",
   "execution_count": 435,
   "id": "aaef6c42-45af-473d-9fc1-b7eaaa52c216",
   "metadata": {},
   "outputs": [
    {
     "data": {
      "text/html": [
       "<div>\n",
       "<style scoped>\n",
       "    .dataframe tbody tr th:only-of-type {\n",
       "        vertical-align: middle;\n",
       "    }\n",
       "\n",
       "    .dataframe tbody tr th {\n",
       "        vertical-align: top;\n",
       "    }\n",
       "\n",
       "    .dataframe thead th {\n",
       "        text-align: right;\n",
       "    }\n",
       "</style>\n",
       "<table border=\"1\" class=\"dataframe\">\n",
       "  <thead>\n",
       "    <tr style=\"text-align: right;\">\n",
       "      <th></th>\n",
       "      <th>company_name</th>\n",
       "      <th>equity_funding_total</th>\n",
       "      <th>num_articles</th>\n",
       "      <th>last_equity_funding_total</th>\n",
       "      <th>num_investments_funding_rounds</th>\n",
       "      <th>founded_on</th>\n",
       "      <th>ipqwery_num_trademark_registered</th>\n",
       "      <th>ipqwery_num_patent_granted</th>\n",
       "      <th>num_investors</th>\n",
       "      <th>operating_status</th>\n",
       "      <th>...</th>\n",
       "      <th>num_funding_rounds</th>\n",
       "      <th>last_funding_type</th>\n",
       "      <th>last_funding_at</th>\n",
       "      <th>last_funding_total</th>\n",
       "      <th>num_founders</th>\n",
       "      <th>linkedin</th>\n",
       "      <th>facebook</th>\n",
       "      <th>twitter</th>\n",
       "      <th>founders</th>\n",
       "      <th>categories</th>\n",
       "    </tr>\n",
       "  </thead>\n",
       "  <tbody>\n",
       "    <tr>\n",
       "      <th>0</th>\n",
       "      <td>QFEX</td>\n",
       "      <td>500000.0</td>\n",
       "      <td>NaN</td>\n",
       "      <td>500000.0</td>\n",
       "      <td>NaN</td>\n",
       "      <td>2025-05-01</td>\n",
       "      <td>NaN</td>\n",
       "      <td>NaN</td>\n",
       "      <td>1</td>\n",
       "      <td>active</td>\n",
       "      <td>...</td>\n",
       "      <td>1</td>\n",
       "      <td>pre_seed</td>\n",
       "      <td>2025-05-04</td>\n",
       "      <td>500000.0</td>\n",
       "      <td>2.0</td>\n",
       "      <td>https://www.linkedin.com/company/Entimox/</td>\n",
       "      <td>NaN</td>\n",
       "      <td>https://x.com/TradeQFEX</td>\n",
       "      <td>Annanay Kapila, Joshua Wharton</td>\n",
       "      <td>Financial Services, Lending and Investments</td>\n",
       "    </tr>\n",
       "    <tr>\n",
       "      <th>1</th>\n",
       "      <td>Eytrix</td>\n",
       "      <td>29000000.0</td>\n",
       "      <td>NaN</td>\n",
       "      <td>26000000.0</td>\n",
       "      <td>NaN</td>\n",
       "      <td>2025-03-25</td>\n",
       "      <td>NaN</td>\n",
       "      <td>NaN</td>\n",
       "      <td>6</td>\n",
       "      <td>active</td>\n",
       "      <td>...</td>\n",
       "      <td>2</td>\n",
       "      <td>series_a</td>\n",
       "      <td>2025-05-08</td>\n",
       "      <td>26000000.0</td>\n",
       "      <td>2.0</td>\n",
       "      <td>https://www.linkedin.com/company/eytrix/</td>\n",
       "      <td>NaN</td>\n",
       "      <td>https://x.com/eytrixai</td>\n",
       "      <td>Erdem Hacisalihoglu, Ethan Lee</td>\n",
       "      <td>Artificial Intelligence (AI), Data and Analyti...</td>\n",
       "    </tr>\n",
       "    <tr>\n",
       "      <th>2</th>\n",
       "      <td>Minerva Intelligence</td>\n",
       "      <td>525000.0</td>\n",
       "      <td>NaN</td>\n",
       "      <td>525000.0</td>\n",
       "      <td>NaN</td>\n",
       "      <td>2025-02-23</td>\n",
       "      <td>NaN</td>\n",
       "      <td>NaN</td>\n",
       "      <td>3</td>\n",
       "      <td>active</td>\n",
       "      <td>...</td>\n",
       "      <td>1</td>\n",
       "      <td>pre_seed</td>\n",
       "      <td>2025-04-07</td>\n",
       "      <td>525000.0</td>\n",
       "      <td>1.0</td>\n",
       "      <td>NaN</td>\n",
       "      <td>NaN</td>\n",
       "      <td>NaN</td>\n",
       "      <td>Om Agarwal</td>\n",
       "      <td>Financial Services</td>\n",
       "    </tr>\n",
       "    <tr>\n",
       "      <th>3</th>\n",
       "      <td>Terracotta AI</td>\n",
       "      <td>2700000.0</td>\n",
       "      <td>NaN</td>\n",
       "      <td>2000000.0</td>\n",
       "      <td>NaN</td>\n",
       "      <td>2025-02-01</td>\n",
       "      <td>NaN</td>\n",
       "      <td>NaN</td>\n",
       "      <td>2</td>\n",
       "      <td>active</td>\n",
       "      <td>...</td>\n",
       "      <td>2</td>\n",
       "      <td>seed</td>\n",
       "      <td>2025-01-01</td>\n",
       "      <td>2000000.0</td>\n",
       "      <td>2.0</td>\n",
       "      <td>https://www.linkedin.com/company/tryterracotta</td>\n",
       "      <td>NaN</td>\n",
       "      <td>NaN</td>\n",
       "      <td>Carlos Feliciano, Casey Wilcox</td>\n",
       "      <td>Artificial Intelligence (AI), Hardware, Inform...</td>\n",
       "    </tr>\n",
       "    <tr>\n",
       "      <th>4</th>\n",
       "      <td>TripleZip</td>\n",
       "      <td>500000.0</td>\n",
       "      <td>NaN</td>\n",
       "      <td>500000.0</td>\n",
       "      <td>NaN</td>\n",
       "      <td>2025-01-05</td>\n",
       "      <td>NaN</td>\n",
       "      <td>NaN</td>\n",
       "      <td>1</td>\n",
       "      <td>active</td>\n",
       "      <td>...</td>\n",
       "      <td>1</td>\n",
       "      <td>pre_seed</td>\n",
       "      <td>2025-03-12</td>\n",
       "      <td>500000.0</td>\n",
       "      <td>2.0</td>\n",
       "      <td>https://www.linkedin.com/company/triplezip</td>\n",
       "      <td>NaN</td>\n",
       "      <td>https://x.com/TripleZipAI</td>\n",
       "      <td>Grayson Pike, Yash Sahota</td>\n",
       "      <td>Artificial Intelligence (AI), Data and Analyti...</td>\n",
       "    </tr>\n",
       "  </tbody>\n",
       "</table>\n",
       "<p>5 rows × 23 columns</p>\n",
       "</div>"
      ],
      "text/plain": [
       "           company_name  equity_funding_total  num_articles  \\\n",
       "0                  QFEX              500000.0           NaN   \n",
       "1                Eytrix            29000000.0           NaN   \n",
       "2  Minerva Intelligence              525000.0           NaN   \n",
       "3         Terracotta AI             2700000.0           NaN   \n",
       "4             TripleZip              500000.0           NaN   \n",
       "\n",
       "   last_equity_funding_total  num_investments_funding_rounds  founded_on  \\\n",
       "0                   500000.0                             NaN  2025-05-01   \n",
       "1                 26000000.0                             NaN  2025-03-25   \n",
       "2                   525000.0                             NaN  2025-02-23   \n",
       "3                  2000000.0                             NaN  2025-02-01   \n",
       "4                   500000.0                             NaN  2025-01-05   \n",
       "\n",
       "   ipqwery_num_trademark_registered  ipqwery_num_patent_granted  \\\n",
       "0                               NaN                         NaN   \n",
       "1                               NaN                         NaN   \n",
       "2                               NaN                         NaN   \n",
       "3                               NaN                         NaN   \n",
       "4                               NaN                         NaN   \n",
       "\n",
       "   num_investors operating_status  ...  num_funding_rounds last_funding_type  \\\n",
       "0              1           active  ...                   1          pre_seed   \n",
       "1              6           active  ...                   2          series_a   \n",
       "2              3           active  ...                   1          pre_seed   \n",
       "3              2           active  ...                   2              seed   \n",
       "4              1           active  ...                   1          pre_seed   \n",
       "\n",
       "   last_funding_at  last_funding_total num_founders  \\\n",
       "0       2025-05-04            500000.0          2.0   \n",
       "1       2025-05-08          26000000.0          2.0   \n",
       "2       2025-04-07            525000.0          1.0   \n",
       "3       2025-01-01           2000000.0          2.0   \n",
       "4       2025-03-12            500000.0          2.0   \n",
       "\n",
       "                                         linkedin  facebook  \\\n",
       "0       https://www.linkedin.com/company/Entimox/       NaN   \n",
       "1        https://www.linkedin.com/company/eytrix/       NaN   \n",
       "2                                             NaN       NaN   \n",
       "3  https://www.linkedin.com/company/tryterracotta       NaN   \n",
       "4      https://www.linkedin.com/company/triplezip       NaN   \n",
       "\n",
       "                     twitter                        founders  \\\n",
       "0    https://x.com/TradeQFEX  Annanay Kapila, Joshua Wharton   \n",
       "1     https://x.com/eytrixai  Erdem Hacisalihoglu, Ethan Lee   \n",
       "2                        NaN                      Om Agarwal   \n",
       "3                        NaN  Carlos Feliciano, Casey Wilcox   \n",
       "4  https://x.com/TripleZipAI       Grayson Pike, Yash Sahota   \n",
       "\n",
       "                                          categories  \n",
       "0        Financial Services, Lending and Investments  \n",
       "1  Artificial Intelligence (AI), Data and Analyti...  \n",
       "2                                 Financial Services  \n",
       "3  Artificial Intelligence (AI), Hardware, Inform...  \n",
       "4  Artificial Intelligence (AI), Data and Analyti...  \n",
       "\n",
       "[5 rows x 23 columns]"
      ]
     },
     "execution_count": 435,
     "metadata": {},
     "output_type": "execute_result"
    }
   ],
   "source": [
    "# Leer el archivo CSV con separador coma\n",
    "df = pd.read_csv(\"datasets/startups_etapa_temprana.csv\", sep=\",\")\n",
    "df.head()"
   ]
  },
  {
   "cell_type": "code",
   "execution_count": 436,
   "id": "09cd47e6-22d1-4d95-8d7b-7ad6e48b8c06",
   "metadata": {},
   "outputs": [
    {
     "data": {
      "text/plain": [
       "2557"
      ]
     },
     "execution_count": 436,
     "metadata": {},
     "output_type": "execute_result"
    }
   ],
   "source": [
    "len(df)"
   ]
  },
  {
   "cell_type": "code",
   "execution_count": 437,
   "id": "0a1e9ec3-8a28-499c-ad0f-9637d7749570",
   "metadata": {},
   "outputs": [
    {
     "data": {
      "text/html": [
       "<div>\n",
       "<style scoped>\n",
       "    .dataframe tbody tr th:only-of-type {\n",
       "        vertical-align: middle;\n",
       "    }\n",
       "\n",
       "    .dataframe tbody tr th {\n",
       "        vertical-align: top;\n",
       "    }\n",
       "\n",
       "    .dataframe thead th {\n",
       "        text-align: right;\n",
       "    }\n",
       "</style>\n",
       "<table border=\"1\" class=\"dataframe\">\n",
       "  <thead>\n",
       "    <tr style=\"text-align: right;\">\n",
       "      <th></th>\n",
       "      <th>company_name</th>\n",
       "      <th>num_female_founders</th>\n",
       "      <th>num_male_founders</th>\n",
       "    </tr>\n",
       "  </thead>\n",
       "  <tbody>\n",
       "    <tr>\n",
       "      <th>0</th>\n",
       "      <td>0pass</td>\n",
       "      <td>0</td>\n",
       "      <td>2</td>\n",
       "    </tr>\n",
       "    <tr>\n",
       "      <th>1</th>\n",
       "      <td>10by10.io</td>\n",
       "      <td>1</td>\n",
       "      <td>0</td>\n",
       "    </tr>\n",
       "    <tr>\n",
       "      <th>2</th>\n",
       "      <td>1849 Bio</td>\n",
       "      <td>0</td>\n",
       "      <td>2</td>\n",
       "    </tr>\n",
       "    <tr>\n",
       "      <th>3</th>\n",
       "      <td>1Flow</td>\n",
       "      <td>0</td>\n",
       "      <td>1</td>\n",
       "    </tr>\n",
       "    <tr>\n",
       "      <th>4</th>\n",
       "      <td>1build</td>\n",
       "      <td>0</td>\n",
       "      <td>1</td>\n",
       "    </tr>\n",
       "  </tbody>\n",
       "</table>\n",
       "</div>"
      ],
      "text/plain": [
       "  company_name  num_female_founders  num_male_founders\n",
       "0        0pass                    0                  2\n",
       "1    10by10.io                    1                  0\n",
       "2     1849 Bio                    0                  2\n",
       "3        1Flow                    0                  1\n",
       "4       1build                    0                  1"
      ]
     },
     "execution_count": 437,
     "metadata": {},
     "output_type": "execute_result"
    }
   ],
   "source": [
    "# Leer el archivo con separador ;\n",
    "fundadores_df = pd.read_csv(\"datasets/conteo_fundadores_por_startup.csv\", sep=\";\")\n",
    "fundadores_df.head()"
   ]
  },
  {
   "cell_type": "code",
   "execution_count": 438,
   "id": "15ca888e-6b46-4152-a64a-d36e5c512614",
   "metadata": {},
   "outputs": [],
   "source": [
    "# Hacer el merge (cruce) por company_name\n",
    "df = df.merge(\n",
    "    fundadores_df[[\"company_name\", \"num_female_founders\", \"num_male_founders\"]],\n",
    "    on=\"company_name\",\n",
    "    how=\"left\"\n",
    ")"
   ]
  },
  {
   "cell_type": "code",
   "execution_count": 439,
   "id": "409f2139-e7c4-45c1-a53b-43c04b711245",
   "metadata": {},
   "outputs": [
    {
     "data": {
      "text/plain": [
       "2557"
      ]
     },
     "execution_count": 439,
     "metadata": {},
     "output_type": "execute_result"
    }
   ],
   "source": [
    "len(df)"
   ]
  },
  {
   "cell_type": "code",
   "execution_count": 440,
   "id": "9eb084a2-2d92-4a50-846f-325c1255fc63",
   "metadata": {},
   "outputs": [],
   "source": [
    "# Crear columnas binarias sin sobrescribir las originales\n",
    "df[\"has_linkedin\"] = df[\"linkedin\"].apply(lambda x: 1 if pd.notna(x) and str(x).strip() != \"\" else 0)\n",
    "df[\"has_facebook\"] = df[\"facebook\"].apply(lambda x: 1 if pd.notna(x) and str(x).strip() != \"\" else 0)"
   ]
  },
  {
   "cell_type": "code",
   "execution_count": 441,
   "id": "f5e78562-d6c7-4622-96ed-c28aa0699c18",
   "metadata": {},
   "outputs": [
    {
     "data": {
      "text/plain": [
       "2557"
      ]
     },
     "execution_count": 441,
     "metadata": {},
     "output_type": "execute_result"
    }
   ],
   "source": [
    "len(df)"
   ]
  },
  {
   "cell_type": "code",
   "execution_count": 442,
   "id": "43f4136f-12ac-4794-a5a1-d59f9a6a2ad3",
   "metadata": {},
   "outputs": [
    {
     "data": {
      "text/html": [
       "<div>\n",
       "<style scoped>\n",
       "    .dataframe tbody tr th:only-of-type {\n",
       "        vertical-align: middle;\n",
       "    }\n",
       "\n",
       "    .dataframe tbody tr th {\n",
       "        vertical-align: top;\n",
       "    }\n",
       "\n",
       "    .dataframe thead th {\n",
       "        text-align: right;\n",
       "    }\n",
       "</style>\n",
       "<table border=\"1\" class=\"dataframe\">\n",
       "  <thead>\n",
       "    <tr style=\"text-align: right;\">\n",
       "      <th></th>\n",
       "      <th>company_name</th>\n",
       "      <th>twitter</th>\n",
       "      <th>twitter_followers</th>\n",
       "    </tr>\n",
       "  </thead>\n",
       "  <tbody>\n",
       "    <tr>\n",
       "      <th>0</th>\n",
       "      <td>QFEX</td>\n",
       "      <td>https://x.com/TradeQFEX</td>\n",
       "      <td>183</td>\n",
       "    </tr>\n",
       "    <tr>\n",
       "      <th>1</th>\n",
       "      <td>Novoflow</td>\n",
       "      <td>NaN</td>\n",
       "      <td>NaN</td>\n",
       "    </tr>\n",
       "    <tr>\n",
       "      <th>2</th>\n",
       "      <td>Frekil</td>\n",
       "      <td>NaN</td>\n",
       "      <td>NaN</td>\n",
       "    </tr>\n",
       "    <tr>\n",
       "      <th>3</th>\n",
       "      <td>Eytrix</td>\n",
       "      <td>https://x.com/eytrixai</td>\n",
       "      <td>0</td>\n",
       "    </tr>\n",
       "    <tr>\n",
       "      <th>4</th>\n",
       "      <td>Minerva Intelligence</td>\n",
       "      <td>NaN</td>\n",
       "      <td>NaN</td>\n",
       "    </tr>\n",
       "  </tbody>\n",
       "</table>\n",
       "</div>"
      ],
      "text/plain": [
       "           company_name                  twitter twitter_followers\n",
       "0                  QFEX  https://x.com/TradeQFEX               183\n",
       "1              Novoflow                      NaN               NaN\n",
       "2                Frekil                      NaN               NaN\n",
       "3                Eytrix   https://x.com/eytrixai                 0\n",
       "4  Minerva Intelligence                      NaN               NaN"
      ]
     },
     "execution_count": 442,
     "metadata": {},
     "output_type": "execute_result"
    }
   ],
   "source": [
    "# Leer el archivo con separador ;\n",
    "df_x = pd.read_csv(\"datasets/cuentas_startup_twitter_con_seguidores.csv\", sep=\";\")\n",
    "df_x.head()"
   ]
  },
  {
   "cell_type": "code",
   "execution_count": 443,
   "id": "1899952b-f473-4d3d-b3d8-7df953df0adc",
   "metadata": {},
   "outputs": [
    {
     "data": {
      "text/plain": [
       "4669"
      ]
     },
     "execution_count": 443,
     "metadata": {},
     "output_type": "execute_result"
    }
   ],
   "source": [
    "len(df_x)"
   ]
  },
  {
   "cell_type": "code",
   "execution_count": 444,
   "id": "6d714f2a-2aec-4a82-8409-d8b8576ace1b",
   "metadata": {},
   "outputs": [],
   "source": [
    "#duplicados = df[df[\"company_name\"].duplicated()]\n",
    "#print(duplicados[\"company_name\"])"
   ]
  },
  {
   "cell_type": "code",
   "execution_count": 445,
   "id": "b73f396e-dbdb-452b-bf74-685f5307e2dd",
   "metadata": {},
   "outputs": [
    {
     "name": "stdout",
     "output_type": "stream",
     "text": [
      "           company_name  has_twitter\n",
      "0                  QFEX            1\n",
      "1                Eytrix            1\n",
      "2  Minerva Intelligence            0\n",
      "3         Terracotta AI            0\n",
      "4             TripleZip            1\n"
     ]
    }
   ],
   "source": [
    "# Hacer el merge temporalmente solo para obtener la columna de twitter\n",
    "twitter_merge = pd.merge(df[[\"company_name\"]], df_x[[\"company_name\", \"twitter\"]], on=\"company_name\", how=\"left\")\n",
    "\n",
    "# Crear nueva columna has_twitter directamente en df\n",
    "df[\"has_twitter\"] = twitter_merge[\"twitter\"].apply(lambda x: 1 if pd.notna(x) and str(x).strip() != \"\" else 0)\n",
    "\n",
    "# Verificamos el resultado\n",
    "print(df[[\"company_name\", \"has_twitter\"]].head())"
   ]
  },
  {
   "cell_type": "code",
   "execution_count": 446,
   "id": "e77de3cb-3806-4b76-8fac-0a3676f47c31",
   "metadata": {},
   "outputs": [
    {
     "data": {
      "text/plain": [
       "2557"
      ]
     },
     "execution_count": 446,
     "metadata": {},
     "output_type": "execute_result"
    }
   ],
   "source": [
    "len(df)"
   ]
  },
  {
   "cell_type": "code",
   "execution_count": 447,
   "id": "c6ec3986-cb3a-4aeb-9d7f-a3f298658be1",
   "metadata": {},
   "outputs": [
    {
     "name": "stdout",
     "output_type": "stream",
     "text": [
      "           company_name  twitter_followers\n",
      "0                  QFEX                183\n",
      "1                Eytrix                  0\n",
      "2  Minerva Intelligence                  0\n",
      "3         Terracotta AI                  0\n",
      "4             TripleZip                 16\n"
     ]
    }
   ],
   "source": [
    "# Hacemos merge por 'name' para traer los followers\n",
    "df = pd.merge(df, df_x[[\"company_name\", \"twitter_followers\"]], on=\"company_name\", how=\"left\")\n",
    "\n",
    "# Rellenar con 0 donde no haya seguidores\n",
    "df[\"twitter_followers\"] = pd.to_numeric(df[\"twitter_followers\"], errors=\"coerce\").fillna(0).astype(int)\n",
    "\n",
    "# Verificamos el resultado\n",
    "print(df[[\"company_name\", \"twitter_followers\"]].head())"
   ]
  },
  {
   "cell_type": "code",
   "execution_count": 448,
   "id": "90e5230a-afca-4996-9f23-28d45148976a",
   "metadata": {},
   "outputs": [
    {
     "data": {
      "text/plain": [
       "2557"
      ]
     },
     "execution_count": 448,
     "metadata": {},
     "output_type": "execute_result"
    }
   ],
   "source": [
    "len(df)"
   ]
  },
  {
   "cell_type": "code",
   "execution_count": 449,
   "id": "40ffc3f9-9d39-4351-bd40-c090957b31ca",
   "metadata": {},
   "outputs": [],
   "source": [
    "df = df.drop([\"linkedin\",\"facebook\", \"twitter\", \"founders\"], axis=1)"
   ]
  },
  {
   "cell_type": "code",
   "execution_count": 450,
   "id": "43abe8e9-0831-49f6-93cd-a5fb6a908a18",
   "metadata": {},
   "outputs": [],
   "source": [
    "columnas = [\"num_articles\", \"num_investments_funding_rounds\", \"ipqwery_num_trademark_registered\",\"ipqwery_num_patent_granted\",] \n",
    "\n",
    "df[columnas] = df[columnas].replace(\"\", pd.NA)  # convierte \"\" en NaN\n",
    "df[columnas] = df[columnas].fillna(0)           # reemplaza NaN por 0\n"
   ]
  },
  {
   "cell_type": "code",
   "execution_count": 451,
   "id": "34df334e-668b-4926-800f-19d9e2e1d3b4",
   "metadata": {},
   "outputs": [],
   "source": [
    "df[columnas] = df[columnas].astype(\"Int64\")"
   ]
  },
  {
   "cell_type": "code",
   "execution_count": 452,
   "id": "8162dbc4-cb2f-456d-9be3-502799a8d45e",
   "metadata": {},
   "outputs": [
    {
     "data": {
      "text/plain": [
       "2557"
      ]
     },
     "execution_count": 452,
     "metadata": {},
     "output_type": "execute_result"
    }
   ],
   "source": [
    "len(df)"
   ]
  },
  {
   "cell_type": "code",
   "execution_count": 453,
   "id": "4da281d6-4c22-4dd0-b97f-4fad4fbc3930",
   "metadata": {},
   "outputs": [
    {
     "data": {
      "text/html": [
       "<div>\n",
       "<style scoped>\n",
       "    .dataframe tbody tr th:only-of-type {\n",
       "        vertical-align: middle;\n",
       "    }\n",
       "\n",
       "    .dataframe tbody tr th {\n",
       "        vertical-align: top;\n",
       "    }\n",
       "\n",
       "    .dataframe thead th {\n",
       "        text-align: right;\n",
       "    }\n",
       "</style>\n",
       "<table border=\"1\" class=\"dataframe\">\n",
       "  <thead>\n",
       "    <tr style=\"text-align: right;\">\n",
       "      <th></th>\n",
       "      <th>company_name</th>\n",
       "      <th>categories</th>\n",
       "      <th>main_category</th>\n",
       "    </tr>\n",
       "  </thead>\n",
       "  <tbody>\n",
       "    <tr>\n",
       "      <th>0</th>\n",
       "      <td>QFEX</td>\n",
       "      <td>Financial Services, Lending and Investments</td>\n",
       "      <td>Financial</td>\n",
       "    </tr>\n",
       "    <tr>\n",
       "      <th>1</th>\n",
       "      <td>Eytrix</td>\n",
       "      <td>Artificial Intelligence (AI), Data and Analyti...</td>\n",
       "      <td>B2B Software and Services</td>\n",
       "    </tr>\n",
       "    <tr>\n",
       "      <th>2</th>\n",
       "      <td>Minerva Intelligence</td>\n",
       "      <td>Financial Services</td>\n",
       "      <td>Financial</td>\n",
       "    </tr>\n",
       "    <tr>\n",
       "      <th>3</th>\n",
       "      <td>Terracotta AI</td>\n",
       "      <td>Artificial Intelligence (AI), Hardware, Inform...</td>\n",
       "      <td>B2B Software and Services</td>\n",
       "    </tr>\n",
       "    <tr>\n",
       "      <th>4</th>\n",
       "      <td>TripleZip</td>\n",
       "      <td>Artificial Intelligence (AI), Data and Analyti...</td>\n",
       "      <td>Real Estate and Construction</td>\n",
       "    </tr>\n",
       "  </tbody>\n",
       "</table>\n",
       "</div>"
      ],
      "text/plain": [
       "           company_name                                         categories  \\\n",
       "0                  QFEX        Financial Services, Lending and Investments   \n",
       "1                Eytrix  Artificial Intelligence (AI), Data and Analyti...   \n",
       "2  Minerva Intelligence                                 Financial Services   \n",
       "3         Terracotta AI  Artificial Intelligence (AI), Hardware, Inform...   \n",
       "4             TripleZip  Artificial Intelligence (AI), Data and Analyti...   \n",
       "\n",
       "                  main_category  \n",
       "0                     Financial  \n",
       "1     B2B Software and Services  \n",
       "2                     Financial  \n",
       "3     B2B Software and Services  \n",
       "4  Real Estate and Construction  "
      ]
     },
     "execution_count": 453,
     "metadata": {},
     "output_type": "execute_result"
    }
   ],
   "source": [
    "# Leer el archivo CSV con separador coma\n",
    "df_c = pd.read_csv(\"datasets/categorias_startups_transformadas.csv\", sep=\",\")\n",
    "df_c.head()"
   ]
  },
  {
   "cell_type": "code",
   "execution_count": 454,
   "id": "b345d993-f2c5-48c4-951c-9ddaf0ef9256",
   "metadata": {},
   "outputs": [
    {
     "name": "stdout",
     "output_type": "stream",
     "text": [
      "           company_name                      category\n",
      "0                  QFEX                     Financial\n",
      "1                Eytrix     B2B Software and Services\n",
      "2  Minerva Intelligence                     Financial\n",
      "3         Terracotta AI     B2B Software and Services\n",
      "4             TripleZip  Real Estate and Construction\n"
     ]
    }
   ],
   "source": [
    "# Hacer el merge temporalmente solo para obtener la columna de twitter\n",
    "main_category = pd.merge(df[[\"company_name\"]], df_c[[\"company_name\", \"main_category\"]], on=\"company_name\", how=\"left\")\n",
    "\n",
    "# Crear nueva columna has_twitter directamente en df\n",
    "df[\"category\"] = main_category[\"main_category\"]\n",
    "\n",
    "# Verificamos el resultado\n",
    "print(df[[\"company_name\", \"category\"]].head())"
   ]
  },
  {
   "cell_type": "code",
   "execution_count": 455,
   "id": "c92ab9eb-bcea-4f96-b3a0-82a52e617ecd",
   "metadata": {},
   "outputs": [
    {
     "data": {
      "text/html": [
       "<div>\n",
       "<style scoped>\n",
       "    .dataframe tbody tr th:only-of-type {\n",
       "        vertical-align: middle;\n",
       "    }\n",
       "\n",
       "    .dataframe tbody tr th {\n",
       "        vertical-align: top;\n",
       "    }\n",
       "\n",
       "    .dataframe thead th {\n",
       "        text-align: right;\n",
       "    }\n",
       "</style>\n",
       "<table border=\"1\" class=\"dataframe\">\n",
       "  <thead>\n",
       "    <tr style=\"text-align: right;\">\n",
       "      <th></th>\n",
       "      <th>company_name</th>\n",
       "      <th>equity_funding_total</th>\n",
       "      <th>num_articles</th>\n",
       "      <th>last_equity_funding_total</th>\n",
       "      <th>num_investments_funding_rounds</th>\n",
       "      <th>founded_on</th>\n",
       "      <th>ipqwery_num_trademark_registered</th>\n",
       "      <th>ipqwery_num_patent_granted</th>\n",
       "      <th>num_investors</th>\n",
       "      <th>operating_status</th>\n",
       "      <th>...</th>\n",
       "      <th>last_funding_total</th>\n",
       "      <th>num_founders</th>\n",
       "      <th>categories</th>\n",
       "      <th>num_female_founders</th>\n",
       "      <th>num_male_founders</th>\n",
       "      <th>has_linkedin</th>\n",
       "      <th>has_facebook</th>\n",
       "      <th>has_twitter</th>\n",
       "      <th>twitter_followers</th>\n",
       "      <th>category</th>\n",
       "    </tr>\n",
       "  </thead>\n",
       "  <tbody>\n",
       "    <tr>\n",
       "      <th>0</th>\n",
       "      <td>QFEX</td>\n",
       "      <td>500000.0</td>\n",
       "      <td>0</td>\n",
       "      <td>500000.0</td>\n",
       "      <td>0</td>\n",
       "      <td>2025-05-01</td>\n",
       "      <td>0</td>\n",
       "      <td>0</td>\n",
       "      <td>1</td>\n",
       "      <td>active</td>\n",
       "      <td>...</td>\n",
       "      <td>500000.0</td>\n",
       "      <td>2.0</td>\n",
       "      <td>Financial Services, Lending and Investments</td>\n",
       "      <td>1</td>\n",
       "      <td>1</td>\n",
       "      <td>1</td>\n",
       "      <td>0</td>\n",
       "      <td>1</td>\n",
       "      <td>183</td>\n",
       "      <td>Financial</td>\n",
       "    </tr>\n",
       "    <tr>\n",
       "      <th>1</th>\n",
       "      <td>Eytrix</td>\n",
       "      <td>29000000.0</td>\n",
       "      <td>0</td>\n",
       "      <td>26000000.0</td>\n",
       "      <td>0</td>\n",
       "      <td>2025-03-25</td>\n",
       "      <td>0</td>\n",
       "      <td>0</td>\n",
       "      <td>6</td>\n",
       "      <td>active</td>\n",
       "      <td>...</td>\n",
       "      <td>26000000.0</td>\n",
       "      <td>2.0</td>\n",
       "      <td>Artificial Intelligence (AI), Data and Analyti...</td>\n",
       "      <td>0</td>\n",
       "      <td>2</td>\n",
       "      <td>1</td>\n",
       "      <td>0</td>\n",
       "      <td>1</td>\n",
       "      <td>0</td>\n",
       "      <td>B2B Software and Services</td>\n",
       "    </tr>\n",
       "    <tr>\n",
       "      <th>2</th>\n",
       "      <td>Minerva Intelligence</td>\n",
       "      <td>525000.0</td>\n",
       "      <td>0</td>\n",
       "      <td>525000.0</td>\n",
       "      <td>0</td>\n",
       "      <td>2025-02-23</td>\n",
       "      <td>0</td>\n",
       "      <td>0</td>\n",
       "      <td>3</td>\n",
       "      <td>active</td>\n",
       "      <td>...</td>\n",
       "      <td>525000.0</td>\n",
       "      <td>1.0</td>\n",
       "      <td>Financial Services</td>\n",
       "      <td>1</td>\n",
       "      <td>0</td>\n",
       "      <td>0</td>\n",
       "      <td>0</td>\n",
       "      <td>0</td>\n",
       "      <td>0</td>\n",
       "      <td>Financial</td>\n",
       "    </tr>\n",
       "    <tr>\n",
       "      <th>3</th>\n",
       "      <td>Terracotta AI</td>\n",
       "      <td>2700000.0</td>\n",
       "      <td>0</td>\n",
       "      <td>2000000.0</td>\n",
       "      <td>0</td>\n",
       "      <td>2025-02-01</td>\n",
       "      <td>0</td>\n",
       "      <td>0</td>\n",
       "      <td>2</td>\n",
       "      <td>active</td>\n",
       "      <td>...</td>\n",
       "      <td>2000000.0</td>\n",
       "      <td>2.0</td>\n",
       "      <td>Artificial Intelligence (AI), Hardware, Inform...</td>\n",
       "      <td>0</td>\n",
       "      <td>2</td>\n",
       "      <td>1</td>\n",
       "      <td>0</td>\n",
       "      <td>0</td>\n",
       "      <td>0</td>\n",
       "      <td>B2B Software and Services</td>\n",
       "    </tr>\n",
       "    <tr>\n",
       "      <th>4</th>\n",
       "      <td>TripleZip</td>\n",
       "      <td>500000.0</td>\n",
       "      <td>0</td>\n",
       "      <td>500000.0</td>\n",
       "      <td>0</td>\n",
       "      <td>2025-01-05</td>\n",
       "      <td>0</td>\n",
       "      <td>0</td>\n",
       "      <td>1</td>\n",
       "      <td>active</td>\n",
       "      <td>...</td>\n",
       "      <td>500000.0</td>\n",
       "      <td>2.0</td>\n",
       "      <td>Artificial Intelligence (AI), Data and Analyti...</td>\n",
       "      <td>0</td>\n",
       "      <td>2</td>\n",
       "      <td>1</td>\n",
       "      <td>0</td>\n",
       "      <td>1</td>\n",
       "      <td>16</td>\n",
       "      <td>Real Estate and Construction</td>\n",
       "    </tr>\n",
       "  </tbody>\n",
       "</table>\n",
       "<p>5 rows × 26 columns</p>\n",
       "</div>"
      ],
      "text/plain": [
       "           company_name  equity_funding_total  num_articles  \\\n",
       "0                  QFEX              500000.0             0   \n",
       "1                Eytrix            29000000.0             0   \n",
       "2  Minerva Intelligence              525000.0             0   \n",
       "3         Terracotta AI             2700000.0             0   \n",
       "4             TripleZip              500000.0             0   \n",
       "\n",
       "   last_equity_funding_total  num_investments_funding_rounds  founded_on  \\\n",
       "0                   500000.0                               0  2025-05-01   \n",
       "1                 26000000.0                               0  2025-03-25   \n",
       "2                   525000.0                               0  2025-02-23   \n",
       "3                  2000000.0                               0  2025-02-01   \n",
       "4                   500000.0                               0  2025-01-05   \n",
       "\n",
       "   ipqwery_num_trademark_registered  ipqwery_num_patent_granted  \\\n",
       "0                                 0                           0   \n",
       "1                                 0                           0   \n",
       "2                                 0                           0   \n",
       "3                                 0                           0   \n",
       "4                                 0                           0   \n",
       "\n",
       "   num_investors operating_status  ...  last_funding_total num_founders  \\\n",
       "0              1           active  ...            500000.0          2.0   \n",
       "1              6           active  ...          26000000.0          2.0   \n",
       "2              3           active  ...            525000.0          1.0   \n",
       "3              2           active  ...           2000000.0          2.0   \n",
       "4              1           active  ...            500000.0          2.0   \n",
       "\n",
       "                                          categories  num_female_founders  \\\n",
       "0        Financial Services, Lending and Investments                    1   \n",
       "1  Artificial Intelligence (AI), Data and Analyti...                    0   \n",
       "2                                 Financial Services                    1   \n",
       "3  Artificial Intelligence (AI), Hardware, Inform...                    0   \n",
       "4  Artificial Intelligence (AI), Data and Analyti...                    0   \n",
       "\n",
       "  num_male_founders has_linkedin  has_facebook  has_twitter twitter_followers  \\\n",
       "0                 1            1             0            1               183   \n",
       "1                 2            1             0            1                 0   \n",
       "2                 0            0             0            0                 0   \n",
       "3                 2            1             0            0                 0   \n",
       "4                 2            1             0            1                16   \n",
       "\n",
       "                       category  \n",
       "0                     Financial  \n",
       "1     B2B Software and Services  \n",
       "2                     Financial  \n",
       "3     B2B Software and Services  \n",
       "4  Real Estate and Construction  \n",
       "\n",
       "[5 rows x 26 columns]"
      ]
     },
     "execution_count": 455,
     "metadata": {},
     "output_type": "execute_result"
    }
   ],
   "source": [
    "df.head()"
   ]
  },
  {
   "cell_type": "code",
   "execution_count": 456,
   "id": "6271fdc6-42c4-40ed-9d0f-e9ef7484cc66",
   "metadata": {},
   "outputs": [],
   "source": [
    "df = df.drop([\"categories\"], axis=1)"
   ]
  },
  {
   "cell_type": "code",
   "execution_count": 457,
   "id": "59ceea94-4ed2-4d00-9c72-2d27133e44a5",
   "metadata": {},
   "outputs": [
    {
     "data": {
      "text/plain": [
       "2557"
      ]
     },
     "execution_count": 457,
     "metadata": {},
     "output_type": "execute_result"
    }
   ],
   "source": [
    "len(df)"
   ]
  },
  {
   "cell_type": "code",
   "execution_count": 458,
   "id": "84115cf9-539f-4c7c-b41f-0b9e9981222d",
   "metadata": {},
   "outputs": [],
   "source": [
    "#Calcular edad de la compañia\n",
    "\n",
    "# Asegurar que la columna founded_on esté en formato fecha\n",
    "df[\"founded_on\"] = pd.to_datetime(df[\"founded_on\"], errors=\"coerce\")\n",
    "\n",
    "# Fecha de corte para el cálculo\n",
    "hoy = pd.to_datetime(\"today\")\n",
    "\n",
    "#fecha ficticia para compañias con estado closed\n",
    "fecha_cierre_ficticia = pd.to_datetime(\"2020-12-31\")\n",
    "\n",
    "df[\"company_age\"] = df.apply(\n",
    "    lambda row: ((fecha_cierre_ficticia if row[\"operating_status\"] == \"closed\" else hoy) - row[\"founded_on\"]).days // 365\n",
    "    if pd.notna(row[\"founded_on\"]) else pd.NA,\n",
    "    axis=1\n",
    ").astype(\"Int64\")\n"
   ]
  },
  {
   "cell_type": "code",
   "execution_count": 459,
   "id": "cae9340d-9aa5-4531-8cae-da4180c9fa48",
   "metadata": {},
   "outputs": [
    {
     "data": {
      "text/plain": [
       "2557"
      ]
     },
     "execution_count": 459,
     "metadata": {},
     "output_type": "execute_result"
    }
   ],
   "source": [
    "len(df)"
   ]
  },
  {
   "cell_type": "code",
   "execution_count": 460,
   "id": "ea15cfd0-2b78-4df2-9b9f-9429349c8388",
   "metadata": {},
   "outputs": [
    {
     "data": {
      "text/plain": [
       "2515"
      ]
     },
     "execution_count": 460,
     "metadata": {},
     "output_type": "execute_result"
    }
   ],
   "source": [
    "#Se trabajará con startups fundadas antes del 2025\n",
    "df = df[df[\"founded_on\"].dt.year < 2025]\n",
    "len(df)"
   ]
  },
  {
   "cell_type": "code",
   "execution_count": 461,
   "id": "35b58b35-c6aa-418f-9e40-e5ae1673e6df",
   "metadata": {},
   "outputs": [],
   "source": [
    "#Calcular tiempo en días tomados de su útimo fondeo al llegar a 5 años\n",
    "# Convertir columnas a tipo fecha\n",
    "df[\"last_funding_at\"] = pd.to_datetime(df[\"last_funding_at\"], errors=\"coerce\")\n",
    "\n",
    "# Calcular el inicio del quinto año desde la fundación\n",
    "df[\"start_of_fifth_year\"] = df[\"founded_on\"] + pd.DateOffset(years=5)\n",
    "\n",
    "# Calcular la distancia entre la fecha del último funding y ese inicio del 5to año\n",
    "df[\"distance_to_fifth_year\"] = (df[\"last_funding_at\"] - df[\"start_of_fifth_year\"]).dt.days\n",
    "\n",
    "df.drop(\"start_of_fifth_year\", axis=1, inplace=True)"
   ]
  },
  {
   "cell_type": "code",
   "execution_count": 462,
   "id": "971a300d-de38-43b9-b699-5a4bfb24cfef",
   "metadata": {},
   "outputs": [],
   "source": [
    "# Guardar \n",
    "df.to_csv(\"datasets/startups_etapa_temprana_final.csv\", index=False)"
   ]
  },
  {
   "cell_type": "code",
   "execution_count": 463,
   "id": "0e91ae96-4fd9-451e-a902-a0774228f2e6",
   "metadata": {},
   "outputs": [
    {
     "data": {
      "text/plain": [
       "2515"
      ]
     },
     "execution_count": 463,
     "metadata": {},
     "output_type": "execute_result"
    }
   ],
   "source": [
    "len(df)"
   ]
  },
  {
   "cell_type": "code",
   "execution_count": null,
   "id": "f6b57134-3c36-4597-b397-92686d663808",
   "metadata": {},
   "outputs": [],
   "source": []
  }
 ],
 "metadata": {
  "kernelspec": {
   "display_name": "Python 3 (ipykernel)",
   "language": "python",
   "name": "python3"
  },
  "language_info": {
   "codemirror_mode": {
    "name": "ipython",
    "version": 3
   },
   "file_extension": ".py",
   "mimetype": "text/x-python",
   "name": "python",
   "nbconvert_exporter": "python",
   "pygments_lexer": "ipython3",
   "version": "3.9.18"
  }
 },
 "nbformat": 4,
 "nbformat_minor": 5
}
