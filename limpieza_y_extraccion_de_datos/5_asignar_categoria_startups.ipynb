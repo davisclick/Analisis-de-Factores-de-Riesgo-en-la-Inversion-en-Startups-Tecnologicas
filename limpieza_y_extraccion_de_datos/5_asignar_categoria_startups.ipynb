{
 "cells": [
  {
   "cell_type": "code",
   "execution_count": 6,
   "id": "4a94596e-6d98-4b04-b11e-1ddf9ea3cd62",
   "metadata": {},
   "outputs": [],
   "source": [
    "import pandas as pd"
   ]
  },
  {
   "cell_type": "code",
   "execution_count": 7,
   "id": "af266b39-edf4-492d-acee-890c0cc09160",
   "metadata": {},
   "outputs": [],
   "source": [
    "# Leer el archivo con separador ;\n",
    "df = pd.read_csv(\"datasets/categorias_startups.csv\", sep=\",\")"
   ]
  },
  {
   "cell_type": "code",
   "execution_count": 8,
   "id": "64f114b7-3e9b-4ced-813e-0de0ad40b6d9",
   "metadata": {},
   "outputs": [
    {
     "data": {
      "text/html": [
       "<div>\n",
       "<style scoped>\n",
       "    .dataframe tbody tr th:only-of-type {\n",
       "        vertical-align: middle;\n",
       "    }\n",
       "\n",
       "    .dataframe tbody tr th {\n",
       "        vertical-align: top;\n",
       "    }\n",
       "\n",
       "    .dataframe thead th {\n",
       "        text-align: right;\n",
       "    }\n",
       "</style>\n",
       "<table border=\"1\" class=\"dataframe\">\n",
       "  <thead>\n",
       "    <tr style=\"text-align: right;\">\n",
       "      <th></th>\n",
       "      <th>company_name</th>\n",
       "      <th>categories</th>\n",
       "    </tr>\n",
       "  </thead>\n",
       "  <tbody>\n",
       "    <tr>\n",
       "      <th>0</th>\n",
       "      <td>QFEX</td>\n",
       "      <td>Financial Services, Lending and Investments</td>\n",
       "    </tr>\n",
       "    <tr>\n",
       "      <th>1</th>\n",
       "      <td>Eytrix</td>\n",
       "      <td>Artificial Intelligence (AI), Data and Analyti...</td>\n",
       "    </tr>\n",
       "    <tr>\n",
       "      <th>2</th>\n",
       "      <td>Minerva Intelligence</td>\n",
       "      <td>Financial Services</td>\n",
       "    </tr>\n",
       "    <tr>\n",
       "      <th>3</th>\n",
       "      <td>Terracotta AI</td>\n",
       "      <td>Artificial Intelligence (AI), Hardware, Inform...</td>\n",
       "    </tr>\n",
       "    <tr>\n",
       "      <th>4</th>\n",
       "      <td>TripleZip</td>\n",
       "      <td>Artificial Intelligence (AI), Data and Analyti...</td>\n",
       "    </tr>\n",
       "  </tbody>\n",
       "</table>\n",
       "</div>"
      ],
      "text/plain": [
       "           company_name                                         categories\n",
       "0                  QFEX        Financial Services, Lending and Investments\n",
       "1                Eytrix  Artificial Intelligence (AI), Data and Analyti...\n",
       "2  Minerva Intelligence                                 Financial Services\n",
       "3         Terracotta AI  Artificial Intelligence (AI), Hardware, Inform...\n",
       "4             TripleZip  Artificial Intelligence (AI), Data and Analyti..."
      ]
     },
     "execution_count": 8,
     "metadata": {},
     "output_type": "execute_result"
    }
   ],
   "source": [
    "df.head()"
   ]
  },
  {
   "cell_type": "code",
   "execution_count": 9,
   "id": "33924409-707a-49fc-9b3f-0b066c1c19cc",
   "metadata": {},
   "outputs": [],
   "source": [
    "# Función que asigna la primera categoría principal reconocida\n",
    "def asignar_categoria_prioritaria(categorias_str):\n",
    "    if pd.isna(categorias_str):\n",
    "        return \"No Especificado\"\n",
    "    categorias = [c.strip() for c in categorias_str.split(\",\")]\n",
    "    categorias_mapeadas = [mapeo_categorias.get(c, \"No Especificado\") for c in categorias]\n",
    "    for categoria in prioridad:\n",
    "        if categoria in categorias_mapeadas:\n",
    "            return categoria\n",
    "    return \"No Especificado\""
   ]
  },
  {
   "cell_type": "code",
   "execution_count": 10,
   "id": "30c74234-1693-4057-a0a5-2d89a7fe8f0f",
   "metadata": {},
   "outputs": [],
   "source": [
    "# Supongamos que la columna se llama 'categories' y tiene valores separados por coma\n",
    "df[\"categories\"] = df[\"categories\"].fillna(\"Unspecified\")\n",
    "\n",
    "# Separar por coma y hacer una fila por cada categoría\n",
    "df_exploded = df.assign(category_split=df[\"categories\"].str.split(\",\")).explode(\"category_split\")\n",
    "\n",
    "# Quitar espacios\n",
    "df_exploded[\"category_split\"] = df_exploded[\"category_split\"].str.strip()\n",
    "\n",
    "# Diccionario de mapeo a las 9 categorías principales\n",
    "# 2. Mapeo de subcategorías a categorías principales (en español)\n",
    "mapeo_categorias = {\n",
    "    \"Real Estate\": \"Bienes Raíces y Construcción\",\n",
    "    \"Construction\": \"Bienes Raíces y Construcción\",\n",
    "    \"Education\": \"Educación\",\n",
    "    \"Financial Services\": \"Finanzas\",\n",
    "    \"Lending and Investments\": \"Finanzas\",\n",
    "    \"FinTech\": \"Finanzas\",\n",
    "    \"Health Care\": \"Salud\",\n",
    "    \"Biotech\": \"Salud\",\n",
    "    \"Biotechnology\": \"Salud\",\n",
    "    \"Industrial\": \"Industria\",\n",
    "    \"Manufacturing\": \"Industria\",\n",
    "    \"B2B\": \"Software y Servicios B2B\",\n",
    "    \"SaaS\": \"Software y Servicios B2B\",\n",
    "    \"Software\": \"Software y Servicios B2B\",\n",
    "    \"Artificial Intelligence (AI)\": \"Software y Servicios B2B\",\n",
    "    \"Data and Analytics\": \"Software y Servicios B2B\",\n",
    "    \"Hardware\": \"Software y Servicios B2B\",\n",
    "    \"Information Technology\": \"Software y Servicios B2B\",\n",
    "    \"Consumer Goods\": \"Consumo\",\n",
    "    \"Food and Beverage\": \"Consumo\",\n",
    "    \"Retail\": \"Consumo\",\n",
    "    \"Commerce and Shopping\": \"Consumo\",\n",
    "    ##\"Government\": \"Gobierno\",\n",
    "     #\"Transportation\": \"Transporte\",\n",
    "     #\"Agriculture and Farming\": \"Agricultura\",\n",
    "     #\"Administrative Services\": \"Servicios Profesionales\",\n",
    "     #\"Professional Services\": \"Servicios Profesionales\"\n",
    "}\n",
    "\n",
    "prioridad = [\n",
    "    \"Bienes Raíces y Construcción\",\n",
    "    \"Industria\",\n",
    "    \"Educación\",\n",
    "    \"Finanzas\",\n",
    "    \"Software y Servicios B2B\",\n",
    "    #\"Gobierno\",\n",
    "    \"Salud\",\n",
    "    \"Consumo\",\n",
    "    #\"Transporte\",\n",
    "    #\"Agricultura\",\n",
    "    #\"Servicios Profesionales\",\n",
    "    \"No Especificado\"\n",
    "]\n",
    "\n",
    "\n",
    "# Aplicar función a cada fila\n",
    "df[\"main_category\"] = df[\"categories\"].apply(asignar_categoria_prioritaria)\n",
    "\n",
    "# Guardar resultado\n",
    "df.to_csv(\"datasets/categorias_startups_transformadas.csv\", index=False)"
   ]
  },
  {
   "cell_type": "code",
   "execution_count": null,
   "id": "c389eb9e-3545-47af-ac4c-f67a84c46d91",
   "metadata": {},
   "outputs": [],
   "source": []
  }
 ],
 "metadata": {
  "kernelspec": {
   "display_name": "Python 3 (ipykernel)",
   "language": "python",
   "name": "python3"
  },
  "language_info": {
   "codemirror_mode": {
    "name": "ipython",
    "version": 3
   },
   "file_extension": ".py",
   "mimetype": "text/x-python",
   "name": "python",
   "nbconvert_exporter": "python",
   "pygments_lexer": "ipython3",
   "version": "3.9.18"
  }
 },
 "nbformat": 4,
 "nbformat_minor": 5
}
