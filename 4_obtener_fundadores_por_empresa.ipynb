{
 "cells": [
  {
   "cell_type": "code",
   "execution_count": 9,
   "id": "fd34139e-fb75-4add-8fd7-c6c382f13d98",
   "metadata": {},
   "outputs": [],
   "source": [
    "import pandas as pd"
   ]
  },
  {
   "cell_type": "code",
   "execution_count": 10,
   "id": "41ff7ec2-c4d1-47f8-b9c0-29ad901b85c2",
   "metadata": {},
   "outputs": [],
   "source": [
    "# Leer el archivo con separador ;\n",
    "df = pd.read_csv(\"datasets/fundadores_etapa_temprana_con_genero.csv\", sep=\";\")"
   ]
  },
  {
   "cell_type": "code",
   "execution_count": 11,
   "id": "e4e21775-e021-4234-908f-9a279e5d44a4",
   "metadata": {},
   "outputs": [],
   "source": [
    "# Agrupar y contar por género\n",
    "conteo = df.groupby([\"company_name\", \"gender\"]).size().unstack(fill_value=0)\n",
    "\n",
    "# Renombrar columnas para que sean claras\n",
    "conteo = conteo.rename(columns={\n",
    "    \"male\": \"num_male_founders\",\n",
    "    \"female\": \"num_female_founders\"\n",
    "})\n",
    "\n",
    "# Asegurarse de que ambas columnas existan (por si alguna empresa no tiene de uno de los géneros)\n",
    "if \"num_male_founders\" not in conteo.columns:\n",
    "    conteo[\"num_male_founders\"] = 0\n",
    "if \"num_female_founders\" not in conteo.columns:\n",
    "    conteo[\"num_female_founders\"] = 0\n",
    "\n",
    "# Resetear índice para guardar como CSV\n",
    "conteo = conteo.reset_index()\n",
    "\n",
    "# Guardar archivo final\n",
    "conteo.to_csv(\"datasets/conteo_fundadores_por_empresa.csv\", sep=\";\", index=False)\n"
   ]
  },
  {
   "cell_type": "code",
   "execution_count": 12,
   "id": "ad269014-0bc6-4231-af64-4f15dff1f7ef",
   "metadata": {},
   "outputs": [
    {
     "name": "stdout",
     "output_type": "stream",
     "text": [
      "gender company_name  num_female_founders  num_male_founders\n",
      "0             0pass                    0                  2\n",
      "1         10by10.io                    1                  0\n",
      "2          1849 Bio                    0                  2\n",
      "3             1Flow                    0                  1\n",
      "4            1build                    0                  1\n",
      "...             ...                  ...                ...\n",
      "3798       yearend.                    0                  2\n",
      "3799      zPREDICTA                    1                  1\n",
      "3800     zeroheight                    0                  2\n",
      "3801    Ångström AI                    1                  2\n",
      "3802     á la couch                    1                  1\n",
      "\n",
      "[3803 rows x 3 columns]\n"
     ]
    }
   ],
   "source": [
    "# Ver resultado\n",
    "print(conteo)"
   ]
  },
  {
   "cell_type": "code",
   "execution_count": null,
   "id": "5e86d63f-397c-441a-96fd-538f9049880b",
   "metadata": {},
   "outputs": [],
   "source": []
  }
 ],
 "metadata": {
  "kernelspec": {
   "display_name": "Python 3 (ipykernel)",
   "language": "python",
   "name": "python3"
  },
  "language_info": {
   "codemirror_mode": {
    "name": "ipython",
    "version": 3
   },
   "file_extension": ".py",
   "mimetype": "text/x-python",
   "name": "python",
   "nbconvert_exporter": "python",
   "pygments_lexer": "ipython3",
   "version": "3.9.18"
  }
 },
 "nbformat": 4,
 "nbformat_minor": 5
}
